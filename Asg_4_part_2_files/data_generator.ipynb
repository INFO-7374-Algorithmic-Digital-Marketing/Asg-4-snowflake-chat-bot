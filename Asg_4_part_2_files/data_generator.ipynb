{
 "cells": [
  {
   "cell_type": "markdown",
   "metadata": {},
   "source": [
    "Dataset link : https://www.kaggle.com/datasets/karkavelrajaj/amazon-sales-dataset"
   ]
  },
  {
   "cell_type": "code",
   "execution_count": 1,
   "metadata": {},
   "outputs": [
    {
     "data": {
      "text/html": [
       "<div>\n",
       "<style scoped>\n",
       "    .dataframe tbody tr th:only-of-type {\n",
       "        vertical-align: middle;\n",
       "    }\n",
       "\n",
       "    .dataframe tbody tr th {\n",
       "        vertical-align: top;\n",
       "    }\n",
       "\n",
       "    .dataframe thead th {\n",
       "        text-align: right;\n",
       "    }\n",
       "</style>\n",
       "<table border=\"1\" class=\"dataframe\">\n",
       "  <thead>\n",
       "    <tr style=\"text-align: right;\">\n",
       "      <th></th>\n",
       "      <th>user_id</th>\n",
       "      <th>product_id</th>\n",
       "      <th>review_id</th>\n",
       "    </tr>\n",
       "  </thead>\n",
       "  <tbody>\n",
       "    <tr>\n",
       "      <th>0</th>\n",
       "      <td>AG3D6O4STAQKAY2UVGEUV46KN35Q,AHMY5CWJMMK5BJRBB...</td>\n",
       "      <td>B07JW9H4J1</td>\n",
       "      <td>R3HXWT0LRP0NMF,R2AJM3LFTLZHFO,R6AQJGUP6P86,R1K...</td>\n",
       "    </tr>\n",
       "    <tr>\n",
       "      <th>1</th>\n",
       "      <td>AECPFYFQVRUWC3KGNLJIOREFP5LQ,AGYYVPDD7YG7FYNBX...</td>\n",
       "      <td>B098NS6PVG</td>\n",
       "      <td>RGIQEG07R9HS2,R1SMWZQ86XIN8U,R2J3Y1WL29GWDE,RY...</td>\n",
       "    </tr>\n",
       "    <tr>\n",
       "      <th>20</th>\n",
       "      <td>AFNYIBWKJLJQKY4BGK77ZOTVMORA,AFCTNNMP2LZLY5466...</td>\n",
       "      <td>B09C6HXFC1</td>\n",
       "      <td>R12D1BZF9MU8TN,R32MNCWO5LGFCG,RZU3UK8OZKD6X,R3...</td>\n",
       "    </tr>\n",
       "    <tr>\n",
       "      <th>23</th>\n",
       "      <td>AHIKJUDTVJ4T6DV6IUGFYZ5LXMPA,AE55KTFVNXYFD5FPY...</td>\n",
       "      <td>B09NHVCHS9</td>\n",
       "      <td>R3F4T5TRYPTMIG,R3DQIEC603E7AY,R1O4Z15FD40PV5,R...</td>\n",
       "    </tr>\n",
       "    <tr>\n",
       "      <th>28</th>\n",
       "      <td>AHZWJCVEIEI76H2VGMUSN5D735IQ,AH2DFUHFTG4CKQFVG...</td>\n",
       "      <td>B09W5XR9RT</td>\n",
       "      <td>R1Y30KU04V3QF4,RK3DSUGKIZT8Z,R3BIG7J6V2JZTU,R1...</td>\n",
       "    </tr>\n",
       "  </tbody>\n",
       "</table>\n",
       "</div>"
      ],
      "text/plain": [
       "                                              user_id  product_id  \\\n",
       "0   AG3D6O4STAQKAY2UVGEUV46KN35Q,AHMY5CWJMMK5BJRBB...  B07JW9H4J1   \n",
       "1   AECPFYFQVRUWC3KGNLJIOREFP5LQ,AGYYVPDD7YG7FYNBX...  B098NS6PVG   \n",
       "20  AFNYIBWKJLJQKY4BGK77ZOTVMORA,AFCTNNMP2LZLY5466...  B09C6HXFC1   \n",
       "23  AHIKJUDTVJ4T6DV6IUGFYZ5LXMPA,AE55KTFVNXYFD5FPY...  B09NHVCHS9   \n",
       "28  AHZWJCVEIEI76H2VGMUSN5D735IQ,AH2DFUHFTG4CKQFVG...  B09W5XR9RT   \n",
       "\n",
       "                                            review_id  \n",
       "0   R3HXWT0LRP0NMF,R2AJM3LFTLZHFO,R6AQJGUP6P86,R1K...  \n",
       "1   RGIQEG07R9HS2,R1SMWZQ86XIN8U,R2J3Y1WL29GWDE,RY...  \n",
       "20  R12D1BZF9MU8TN,R32MNCWO5LGFCG,RZU3UK8OZKD6X,R3...  \n",
       "23  R3F4T5TRYPTMIG,R3DQIEC603E7AY,R1O4Z15FD40PV5,R...  \n",
       "28  R1Y30KU04V3QF4,RK3DSUGKIZT8Z,R3BIG7J6V2JZTU,R1...  "
      ]
     },
     "execution_count": 1,
     "metadata": {},
     "output_type": "execute_result"
    }
   ],
   "source": [
    "import pandas as pd\n",
    "from faker import Faker\n",
    "\n",
    "# Load the CSV file\n",
    "file_path = 'amazon.csv'\n",
    "amazon_data = pd.read_csv(file_path)\n",
    "\n",
    "# Extract data for Product table\n",
    "product_data = amazon_data[['product_id', 'product_name', 'about_product', 'rating', 'discounted_price']].copy()\n",
    "product_data.rename(columns={\n",
    "    'product_id': 'ProductID',\n",
    "    'product_name': 'ProductName',\n",
    "    'about_product': 'AboutProduct',\n",
    "    'rating': 'ProductRating',\n",
    "    'discounted_price': 'Price'\n",
    "}, inplace=True)\n",
    "\n",
    "# Extract data for Review table\n",
    "review_data = amazon_data[['review_id', 'user_id', 'product_id', 'review_content', 'rating']].copy()\n",
    "review_data.rename(columns={\n",
    "    'review_id': 'ReviewID',\n",
    "    'user_id': 'UserID',\n",
    "    'product_id': 'ProductID',\n",
    "    'review_content': 'ReviewText',\n",
    "    'rating': 'Rating'\n",
    "}, inplace=True)\n",
    "\n",
    "# Extract and generate data for User table\n",
    "user_data = amazon_data[['user_id', 'user_name']].copy()\n",
    "user_data = user_data.drop_duplicates().copy()\n",
    "user_data.rename(columns={\n",
    "    'user_id': 'UserID',\n",
    "    'user_name': 'UserName'\n",
    "}, inplace=True)\n",
    "\n",
    "# Generate fake email addresses for users\n",
    "fake = Faker()\n",
    "user_data['UserEmail'] = [fake.email() for _ in range(len(user_data))]\n",
    "\n",
    "# Adjust criteria to find users with at least 3 reviews and products with at least 3 reviews\n",
    "review_data = amazon_data[['user_id', 'product_id', 'review_id']]\n",
    "\n",
    "# Calculate the number of reviews per user\n",
    "user_review_counts = review_data['user_id'].value_counts()\n",
    "# Calculate the number of reviews per user with further relaxed criteria\n",
    "users_with_3_or_more_reviews = user_review_counts[user_review_counts >= 3]\n",
    "\n",
    "# Filter review data for users with 3 or more reviews\n",
    "filtered_reviews = review_data[review_data['user_id'].isin(users_with_3_or_more_reviews.index)]\n",
    "\n",
    "# Calculate the number of reviews per product from the filtered data with further relaxed criteria\n",
    "product_review_counts = filtered_reviews['product_id'].value_counts()\n",
    "products_with_3_or_more_reviews = product_review_counts[product_review_counts >= 3]\n",
    "\n",
    "# Filter review data for products with 3 or more reviews\n",
    "final_filtered_reviews = filtered_reviews[filtered_reviews['product_id'].isin(products_with_3_or_more_reviews.index)]\n",
    "\n",
    "# Calculate the final number of reviews per user with further relaxed criteria\n",
    "final_user_review_counts = final_filtered_reviews['user_id'].value_counts()\n",
    "final_users_with_3_or_more_reviews = final_user_review_counts[final_user_review_counts >= 3]\n",
    "\n",
    "# Select the top 10 users\n",
    "top_10_users = final_users_with_3_or_more_reviews.head(10)\n",
    "\n",
    "# Get the final set of data\n",
    "final_data = final_filtered_reviews[final_filtered_reviews['user_id'].isin(top_10_users.index)]\n",
    "\n",
    "final_data.head()\n"
   ]
  },
  {
   "cell_type": "code",
   "execution_count": 2,
   "metadata": {},
   "outputs": [],
   "source": [
    "# Prepare filtered data\n",
    "final_product_data = amazon_data[amazon_data['product_id'].isin(final_data['product_id'].unique())][['product_id', 'product_name', 'about_product', 'rating', 'discounted_price']].copy()\n",
    "final_product_data.rename(columns={\n",
    "    'product_id': 'ProductID',\n",
    "    'product_name': 'ProductName',\n",
    "    'about_product': 'AboutProduct',\n",
    "    'rating': 'ProductRating',\n",
    "    'discounted_price': 'Price'\n",
    "}, inplace=True)\n",
    "\n",
    "final_review_data = amazon_data[amazon_data['review_id'].isin(final_data['review_id'].unique())][['review_id', 'user_id', 'product_id', 'review_content', 'rating']].copy()\n",
    "final_review_data.rename(columns={\n",
    "    'review_id': 'ReviewID',\n",
    "    'user_id': 'UserID',\n",
    "    'product_id': 'ProductID',\n",
    "    'review_content': 'ReviewText',\n",
    "    'rating': 'Rating'\n",
    "}, inplace=True)\n",
    "\n",
    "final_user_data = amazon_data[amazon_data['user_id'].isin(final_data['user_id'].unique())][['user_id', 'user_name']].drop_duplicates().copy()\n",
    "final_user_data.rename(columns={\n",
    "    'user_id': 'UserID',\n",
    "    'user_name': 'UserName'\n",
    "}, inplace=True)\n",
    "final_user_data['UserEmail'] = [fake.email() for _ in range(len(final_user_data))]\n"
   ]
  },
  {
   "cell_type": "code",
   "execution_count": 3,
   "metadata": {},
   "outputs": [
    {
     "data": {
      "text/html": [
       "<div>\n",
       "<style scoped>\n",
       "    .dataframe tbody tr th:only-of-type {\n",
       "        vertical-align: middle;\n",
       "    }\n",
       "\n",
       "    .dataframe tbody tr th {\n",
       "        vertical-align: top;\n",
       "    }\n",
       "\n",
       "    .dataframe thead th {\n",
       "        text-align: right;\n",
       "    }\n",
       "</style>\n",
       "<table border=\"1\" class=\"dataframe\">\n",
       "  <thead>\n",
       "    <tr style=\"text-align: right;\">\n",
       "      <th></th>\n",
       "      <th>ProductID</th>\n",
       "      <th>ProductName</th>\n",
       "      <th>AboutProduct</th>\n",
       "      <th>ProductRating</th>\n",
       "      <th>Price</th>\n",
       "    </tr>\n",
       "  </thead>\n",
       "  <tbody>\n",
       "    <tr>\n",
       "      <th>0</th>\n",
       "      <td>B07JW9H4J1</td>\n",
       "      <td>Wayona Nylon Braided USB to Lightning Fast Cha...</td>\n",
       "      <td>High Compatibility : Compatible With iPhone 12...</td>\n",
       "      <td>4.2</td>\n",
       "      <td>₹399</td>\n",
       "    </tr>\n",
       "    <tr>\n",
       "      <th>1</th>\n",
       "      <td>B098NS6PVG</td>\n",
       "      <td>Ambrane Unbreakable 60W / 3A Fast Charging 1.5...</td>\n",
       "      <td>Compatible with all Type C enabled devices, be...</td>\n",
       "      <td>4.0</td>\n",
       "      <td>₹199</td>\n",
       "    </tr>\n",
       "    <tr>\n",
       "      <th>20</th>\n",
       "      <td>B09C6HXFC1</td>\n",
       "      <td>Duracell USB Lightning Apple Certified (Mfi) B...</td>\n",
       "      <td>Supports Ios Devices With Max Output Up To 2.4...</td>\n",
       "      <td>4.5</td>\n",
       "      <td>₹970</td>\n",
       "    </tr>\n",
       "    <tr>\n",
       "      <th>23</th>\n",
       "      <td>B09NHVCHS9</td>\n",
       "      <td>Flix Micro Usb Cable For Smartphone (Black)</td>\n",
       "      <td>Micro usb cable is 1 meter in length, optimize...</td>\n",
       "      <td>4.0</td>\n",
       "      <td>₹59</td>\n",
       "    </tr>\n",
       "    <tr>\n",
       "      <th>28</th>\n",
       "      <td>B09W5XR9RT</td>\n",
       "      <td>Duracell USB C To Lightning Apple Certified (M...</td>\n",
       "      <td>1.2M Tangle Free durable tough braiding sync &amp;...</td>\n",
       "      <td>4.4</td>\n",
       "      <td>₹970</td>\n",
       "    </tr>\n",
       "  </tbody>\n",
       "</table>\n",
       "</div>"
      ],
      "text/plain": [
       "     ProductID                                        ProductName  \\\n",
       "0   B07JW9H4J1  Wayona Nylon Braided USB to Lightning Fast Cha...   \n",
       "1   B098NS6PVG  Ambrane Unbreakable 60W / 3A Fast Charging 1.5...   \n",
       "20  B09C6HXFC1  Duracell USB Lightning Apple Certified (Mfi) B...   \n",
       "23  B09NHVCHS9        Flix Micro Usb Cable For Smartphone (Black)   \n",
       "28  B09W5XR9RT  Duracell USB C To Lightning Apple Certified (M...   \n",
       "\n",
       "                                         AboutProduct ProductRating Price  \n",
       "0   High Compatibility : Compatible With iPhone 12...           4.2  ₹399  \n",
       "1   Compatible with all Type C enabled devices, be...           4.0  ₹199  \n",
       "20  Supports Ios Devices With Max Output Up To 2.4...           4.5  ₹970  \n",
       "23  Micro usb cable is 1 meter in length, optimize...           4.0   ₹59  \n",
       "28  1.2M Tangle Free durable tough braiding sync &...           4.4  ₹970  "
      ]
     },
     "execution_count": 3,
     "metadata": {},
     "output_type": "execute_result"
    }
   ],
   "source": [
    "final_product_data.head()"
   ]
  },
  {
   "cell_type": "code",
   "execution_count": 4,
   "metadata": {},
   "outputs": [
    {
     "data": {
      "text/plain": [
       "'AG3D6O4STAQKAY2UVGEUV46KN35Q,AHMY5CWJMMK5BJRBBSNLYT3ONILA,AHCTC6ULH4XB6YHDY6PCH2R772LQ,AGYHHIERNXKA6P5T7CZLXKVPT7IQ,AG4OGOFWXJZTQ2HKYIOCOY3KXF2Q,AENGU523SXMOS7JPDTW52PNNVWGQ,AEQJHCVTNINBS4FKTBGQRQTGTE5Q,AFC3FFC5PKFF5PMA52S3VCHOZ5FQ'"
      ]
     },
     "execution_count": 4,
     "metadata": {},
     "output_type": "execute_result"
    }
   ],
   "source": [
    "final_user_data[\"UserID\"].iloc[0]"
   ]
  },
  {
   "cell_type": "code",
   "execution_count": null,
   "metadata": {},
   "outputs": [],
   "source": []
  },
  {
   "cell_type": "code",
   "execution_count": 5,
   "metadata": {},
   "outputs": [
    {
     "name": "stderr",
     "output_type": "stream",
     "text": [
      "/Users/deveshsurve/anaconda3/envs/snowflake-llm/lib/python3.10/site-packages/snowflake/sqlalchemy/base.py:1068: SAWarning: The GenericFunction 'flatten' is already registered and is going to be overridden.\n",
      "  functions.register_function(\"flatten\", flatten)\n"
     ]
    }
   ],
   "source": [
    "from sqlalchemy import MetaData, Table, Column, Integer, String, Float, Boolean, DateTime, Sequence, ForeignKey\n",
    "from sqlalchemy import create_engine\n",
    "from snowflake.sqlalchemy import URL\n",
    "import os\n",
    "from dotenv import load_dotenv\n",
    "\n",
    "# Load environment variables\n",
    "load_dotenv()\n",
    "\n",
    "# Replace these with your Snowflake account details\n",
    "engine = create_engine(URL(\n",
    "    user=os.getenv(\"SNOWFLAKE_USER\"),\n",
    "    password=os.getenv(\"SNOWFLAKE_PASSWORD\"),\n",
    "    account=os.getenv(\"SNOWFLAKE_ACCOUNT\"),    \n",
    "    database=os.getenv(\"SNOWFLAKE_DATABASE\"),\n",
    "    schema=os.getenv(\"SNOWFLAKE_SCHEMA\"),\n",
    "    warehouse=os.getenv(\"SNOWFLAKE_WAREHOUSE\"),\n",
    "    role=os.getenv(\"SNOWFLAKE_ROLE\"),\n",
    "))\n",
    "\n",
    "connection = engine.connect()\n",
    "\n",
    "metadata = MetaData()\n",
    "\n",
    "# Define the tables\n",
    "product_table = Table('Product', metadata,\n",
    "    Column('ProductID', String, primary_key=True),\n",
    "    Column('ProductName', String),\n",
    "    Column('AboutProduct', String),\n",
    "    Column('ProductRating', Float),\n",
    "    Column('Price', String)\n",
    ")\n",
    "\n",
    "user_table = Table('User', metadata,\n",
    "    Column('UserID', String, primary_key=True),\n",
    "    Column('UserName', String),\n",
    "    Column('UserEmail', String)\n",
    ")\n",
    "\n",
    "review_table = Table('Review', metadata,\n",
    "    Column('ReviewID', String, primary_key=True),\n",
    "    Column('UserID', String, ForeignKey('User.UserID')),\n",
    "    Column('ProductID', String, ForeignKey('Product.ProductID')),\n",
    "    Column('ReviewText', String),\n",
    "    Column('Rating', Float)\n",
    ")\n",
    "\n",
    "# Create all tables\n",
    "metadata.create_all(engine)\n",
    "\n",
    "# Function to insert data into the table\n",
    "def insert_data(df, table):\n",
    "    df.to_sql(table.name, con=engine, index=False, if_exists='append')\n",
    "\n",
    "# Load the prepared CSV files\n",
    "product_data = final_product_data\n",
    "user_data = final_user_data\n",
    "review_data = final_review_data\n",
    "\n",
    "# Insert data into the tables\n",
    "insert_data(product_data, product_table)\n",
    "insert_data(user_data, user_table)\n",
    "insert_data(review_data, review_table)\n"
   ]
  },
  {
   "cell_type": "code",
   "execution_count": 1,
   "metadata": {},
   "outputs": [
    {
     "name": "stderr",
     "output_type": "stream",
     "text": [
      "/Users/deveshsurve/anaconda3/envs/snowflake-llm/lib/python3.10/site-packages/snowflake/sqlalchemy/base.py:1068: SAWarning: The GenericFunction 'flatten' is already registered and is going to be overridden.\n",
      "  functions.register_function(\"flatten\", flatten)\n"
     ]
    },
    {
     "data": {
      "text/plain": [
       "'This product is generally well-received for its durability and effective charging performance, with many users satisfied with its value for money. However, some have noted that the charging speed is slower compared to original iPhone cables.'"
      ]
     },
     "execution_count": 1,
     "metadata": {},
     "output_type": "execute_result"
    }
   ],
   "source": [
    "from database import run_query\n",
    "from llm_callers import OpenAICaller\n",
    "\n",
    "def make_review(product_id):\n",
    "    # Run query to get all reviews for this product\n",
    "    reviews_df = run_query(f'''SELECT * FROM \"Review\" WHERE \"ProductID\"='{product_id}';''')\n",
    "    \n",
    "    # Combine all reviews into a single string\n",
    "    combined_reviews = ' '.join(reviews_df['ReviewText'].tolist())\n",
    "\n",
    "    # Initialize the LLM caller with the appropriate prompt\n",
    "    gpt_caller = OpenAICaller(\"You are an assistant who helps with product review generation.\")\n",
    "    \n",
    "    # Call the LLM with the combined reviews and a specific prompt\n",
    "    generated_review = gpt_caller.call_llm(f\"Here are the product reviews from several users: {combined_reviews} Based on this information, please generate a high-level summary review of the product in 1 to 2 sentences.\")\n",
    "\n",
    "    return generated_review\n",
    "\n",
    "# Example usage\n",
    "make_review(\n",
    "    product_id='B07JW9H4J1'\n",
    ")"
   ]
  },
  {
   "cell_type": "code",
   "execution_count": 2,
   "metadata": {},
   "outputs": [
    {
     "data": {
      "text/plain": [
       "\"Based on the user's review history, it seems they value product durability, fast charging, and overall quality. They also mentioned that some products had slower charging speeds compared to the original iPhone cable. \\n\\nThe Wayona Nylon Braided USB to Lightning Fast Charging and Data Sync Cable claims to provide fast charging and is compatible with various iPhone models. Given the user's past positive remarks about charging speed and durability, it is likely that they would appreciate this product.\\n\\nHowever, since they have noted that the charging speed of some non-original cables was slower, this may cause hesitation. Still, considering the interest in fast charging and the positive feedback on durability, I would rate this product a **4 out of 5** for this user.\""
      ]
     },
     "execution_count": 2,
     "metadata": {},
     "output_type": "execute_result"
    }
   ],
   "source": [
    "from database import run_query\n",
    "from llm_callers import OpenAICaller\n",
    "\n",
    "def pointwise_recommender(user_id, product_id):\n",
    "    # Get user's review history\n",
    "    user_reviews = run_query(f'''SELECT \"ReviewText\" FROM \"Review\" WHERE \"UserID\"='{user_id}';''')\n",
    "    user_reviews_text = ' '.join(user_reviews['ReviewText'].tolist())\n",
    "    \n",
    "    # Get the product information\n",
    "    product_info = run_query(f'''SELECT * FROM \"Product\" WHERE \"ProductID\"='{product_id}';''').iloc[0]\n",
    "    \n",
    "    # Initialize the LLM caller\n",
    "    gpt_caller = OpenAICaller(\"You are an assistant who helps with product recommendations based on user review history.\")\n",
    "    \n",
    "    # Call the LLM\n",
    "    response = gpt_caller.call_llm(f\"Here is the user's review history: {user_reviews_text} Based on this history, will the user like the product '{product_info['ProductName']}'? Please provide a rating between 1 and 5.\")\n",
    "    return response\n",
    "\n",
    "# Example usage\n",
    "pointwise_recommender(\n",
    "    user_id='AG3D6O4STAQKAY2UVGEUV46KN35Q,AHMY5CWJMMK5BJRBBSNLYT3ONILA,AHCTC6ULH4XB6YHDY6PCH2R772LQ,AGYHHIERNXKA6P5T7CZLXKVPT7IQ,AG4OGOFWXJZTQ2HKYIOCOY3KXF2Q,AENGU523SXMOS7JPDTW52PNNVWGQ,AEQJHCVTNINBS4FKTBGQRQTGTE5Q,AFC3FFC5PKFF5PMA52S3VCHOZ5FQ', \n",
    "    product_id='B07JW9H4J1'\n",
    ")"
   ]
  },
  {
   "cell_type": "code",
   "execution_count": 5,
   "metadata": {},
   "outputs": [
    {
     "data": {
      "text/plain": [
       "'Based on the user\\'s review history, it appears they have a strong preference for products that are durable, have good quality, and offer fast charging capabilities. They also seem to appreciate value for money and have expressed some concern about the charging speed of cables, particularly mentioning that some products are slower than original iPhone cables.\\n\\nThe **Duracell USB Lightning Apple Certified (Mfi) Braided Sync & Charge Cable** aligns well with the user\\'s preferences because:\\n\\n1. **Compatibility**: It is specifically designed for iPhones, iPads, and iPods, which suggests that it would meet their charging needs effectively.\\n2. **Fast Charging**: The user has highlighted their appreciation for fast-charging capabilities in previous reviews. Since the Duracell cable is marketed as a fast charging cable, this would likely satisfy their requirement for quicker charging.\\n3. **Durability**: Being a braided cable usually implies enhanced durability, which the user has indicated they value (i.e., \"Looks durable\").\\n4. **Quality Assurance**: The \"Apple Certified (MFi)\" label signifies that the product meets Apple\\'s standards for quality, which is important to users who are cautious about compatibility and performance.\\n\\nOn the other hand, the **Flix Micro USB Cable** is geared towards smartphones and may not align with the user\\'s needs if they primarily use Apple devices since they have focused on products tailored for their iPhone.\\n\\n### Conclusion:\\nThus, I recommend the **Duracell USB Lightning Apple Certified (Mfi) Braided Sync & Charge Cable** for the user, as it best matches their preferences for compatibility, charging speed, durability, and quality.'"
      ]
     },
     "execution_count": 5,
     "metadata": {},
     "output_type": "execute_result"
    }
   ],
   "source": [
    "def pairwise_recommender(user_id, product_id1, product_id2):\n",
    "    # Get user's review history\n",
    "    user_reviews = run_query(f'''SELECT \"ReviewText\" FROM \"Review\" WHERE \"UserID\"='{user_id}';''')\n",
    "    user_reviews_text = ' '.join(user_reviews['ReviewText'].tolist())\n",
    "    \n",
    "    # Get information for both products\n",
    "    product_info1 = run_query(f'''SELECT * FROM \"Product\" WHERE \"ProductID\"='{product_id1}';''').iloc[0]\n",
    "    product_info2 = run_query(f'''SELECT * FROM \"Product\" WHERE \"ProductID\"='{product_id2}';''').iloc[0]\n",
    "    \n",
    "    # Initialize the LLM caller\n",
    "    gpt_caller = OpenAICaller(\"You are an assistant who helps with product recommendations based on user review history.\")\n",
    "    \n",
    "    # Call the LLM\n",
    "    response = gpt_caller.call_llm(f\"Here is the user's review history: {user_reviews_text} Based on this history, which product would the user prefer: '{product_info1['ProductName']}' or '{product_info2['ProductName']}'? Please provide your preference and reasoning.\")\n",
    "    \n",
    "    return response\n",
    "\n",
    "# Example usage\n",
    "pairwise_recommender(\n",
    "    user_id='AG3D6O4STAQKAY2UVGEUV46KN35Q,AHMY5CWJMMK5BJRBBSNLYT3ONILA,AHCTC6ULH4XB6YHDY6PCH2R772LQ,AGYHHIERNXKA6P5T7CZLXKVPT7IQ,AG4OGOFWXJZTQ2HKYIOCOY3KXF2Q,AENGU523SXMOS7JPDTW52PNNVWGQ,AEQJHCVTNINBS4FKTBGQRQTGTE5Q,AFC3FFC5PKFF5PMA52S3VCHOZ5FQ', \n",
    "    product_id1='B09C6HXFC1', \n",
    "    product_id2='B09NHVCHS9')\n"
   ]
  },
  {
   "cell_type": "code",
   "execution_count": 7,
   "metadata": {},
   "outputs": [
    {
     "data": {
      "text/plain": [
       "\"Based on the user's review history, they seem to value durability, charging speed, and overall quality in their charging cables. Here’s how the user might rank the products:\\n\\n1. **Duracell USB C To Lightning Apple Certified (Mfi) Braided Sync & Charge Cable For iPhone, iPad And iPod. Fast Charging Lightning Cable, 3.9 Feet (1.2M) - Black:** The user appreciates fast charging capabilities and good quality, which this product offers being a certified option.\\n\\n2. **Duracell USB Lightning Apple Certified (Mfi) Braided Sync & Charge Cable For iPhone, iPad And iPod. Fast Charging Lightning Cable, 3.9 Feet (1.2M) - Black:** This product is similar to the first and would likely be rated highly due to its brand reliability, durability, and fast charging while matching the user's expectations for quality.\\n\\n3. **Flix Micro USB Cable For Smartphone (Black):** Given that the user primarily reviews products for iPhone and Apple devices, a Micro USB cable may not be as preferred. However, if the user also has devices that use Micro USB, the cable's general features could still make it a decent choice.\\n\\nThe overall ranking reflects their preferences for durability, charging speed, and compatibility with Apple products.\""
      ]
     },
     "execution_count": 7,
     "metadata": {},
     "output_type": "execute_result"
    }
   ],
   "source": [
    "def listwise_recommender(user_id, product_ids):\n",
    "    # Get user's review history\n",
    "    user_reviews = run_query(f'''SELECT \"ReviewText\" FROM \"Review\" WHERE \"UserID\"='{user_id}';''')\n",
    "    user_reviews_text = ' '.join(user_reviews['ReviewText'].tolist())\n",
    "    \n",
    "    # Get information for all products\n",
    "    product_info_list = [run_query(f'''SELECT * FROM \"Product\" WHERE \"ProductID\"='{product_id}';''').iloc[0] for product_id in product_ids]\n",
    "    product_names = ', '.join([product_info['ProductName'] for product_info in product_info_list])\n",
    "    \n",
    "    # Initialize the LLM caller\n",
    "    gpt_caller = OpenAICaller(\"You are an assistant who helps with product recommendations based on user review history.\")\n",
    "    \n",
    "    # Call the LLM\n",
    "    response = gpt_caller.call_llm(f\"Here is the user's review history: {user_reviews_text} Based on this history, how would the user rank the following products: {product_names}? Please provide the ranking from most to least preferred.\")\n",
    "\n",
    "    return response\n",
    "\n",
    "# Example usage\n",
    "listwise_recommender(\n",
    "    user_id='AG3D6O4STAQKAY2UVGEUV46KN35Q,AHMY5CWJMMK5BJRBBSNLYT3ONILA,AHCTC6ULH4XB6YHDY6PCH2R772LQ,AGYHHIERNXKA6P5T7CZLXKVPT7IQ,AG4OGOFWXJZTQ2HKYIOCOY3KXF2Q,AENGU523SXMOS7JPDTW52PNNVWGQ,AEQJHCVTNINBS4FKTBGQRQTGTE5Q,AFC3FFC5PKFF5PMA52S3VCHOZ5FQ', \n",
    "    product_ids=['B09W5XR9RT', 'B09NHVCHS9', 'B09C6HXFC1']\n",
    ")\n"
   ]
  },
  {
   "cell_type": "code",
   "execution_count": 8,
   "metadata": {},
   "outputs": [
    {
     "name": "stdout",
     "output_type": "stream",
     "text": [
      "This product is a durable 1.2-meter sync and charge cable designed for iOS devices, offering a maximum output of 2.4A for efficient charging. It is rigorously tested for longevity, boasting over 10,000 bends and 10,000 plugging/unplugging cycles to ensure a long lifespan. The cable supports fast and stable data transmission speeds of up to 480 Mbps.\n",
      "\n",
      "With a compatible design that works seamlessly with MFi and Apple devices, including iPhone, iMac, and iPad, this cable meets a variety of user needs. Additionally, it comes with a 2-year warranty, providing peace of mind for users seeking quality and reliability in their charging solutions. Its tangle-free and tough braiding further enhances its durability for everyday use.\n"
     ]
    }
   ],
   "source": [
    "def summarize_product_features(product_id):\n",
    "    # Get the product information\n",
    "    product_info = run_query(f'''SELECT \"AboutProduct\" FROM \"Product\" WHERE \"ProductID\"='{product_id}';''').iloc[0]['AboutProduct']\n",
    "    \n",
    "    # Initialize the LLM caller\n",
    "    gpt_caller = OpenAICaller(\"You are an assistant who helps summarize product features.\")\n",
    "    \n",
    "    # Call the LLM\n",
    "    response = gpt_caller.call_llm(f\"Here is the product information: {product_info} Please summarize the main features of this product into a short, easy-to-read summary of 1-2 paragraphs.\")\n",
    "    \n",
    "    return response\n",
    "\n",
    "# Example usage\n",
    "print(summarize_product_features('B09C6HXFC1'))"
   ]
  },
  {
   "cell_type": "code",
   "execution_count": null,
   "metadata": {},
   "outputs": [],
   "source": []
  },
  {
   "cell_type": "code",
   "execution_count": null,
   "metadata": {},
   "outputs": [],
   "source": []
  },
  {
   "cell_type": "code",
   "execution_count": null,
   "metadata": {},
   "outputs": [],
   "source": []
  }
 ],
 "metadata": {
  "kernelspec": {
   "display_name": "snowflake-llm",
   "language": "python",
   "name": "python3"
  },
  "language_info": {
   "codemirror_mode": {
    "name": "ipython",
    "version": 3
   },
   "file_extension": ".py",
   "mimetype": "text/x-python",
   "name": "python",
   "nbconvert_exporter": "python",
   "pygments_lexer": "ipython3",
   "version": "3.10.14"
  }
 },
 "nbformat": 4,
 "nbformat_minor": 2
}
