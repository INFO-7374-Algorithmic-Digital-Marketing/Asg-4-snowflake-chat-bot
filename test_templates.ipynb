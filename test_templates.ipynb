{
 "cells": [
  {
   "cell_type": "code",
   "execution_count": 1,
   "metadata": {},
   "outputs": [
    {
     "name": "stderr",
     "output_type": "stream",
     "text": [
      "/home/snehilaryan/snow_chatbot/snowflake-chat-bot/venv/lib/python3.10/site-packages/snowflake/sqlalchemy/base.py:1068: SAWarning: The GenericFunction 'flatten' is already registered and is going to be overridden.\n",
      "  functions.register_function(\"flatten\", flatten)\n"
     ]
    }
   ],
   "source": [
    "from sqlalchemy import create_engine, text\n",
    "import pandas as pd\n",
    "import os\n",
    "from dotenv import load_dotenv\n",
    "import streamlit as st\n",
    "\n",
    "load_dotenv()\n",
    "\n",
    "engine = create_engine(\n",
    "    'snowflake://{user}:{password}@{account}/'.format(\n",
    "        user=os.getenv(\"SNOWFLAKE_USER\"),\n",
    "        password=os.getenv(\"SNOWFLAKE_PASSWORD\"),\n",
    "        account=os.getenv(\"SNOWFLAKE_ACCOUNT\"),\n",
    "    )\n",
    ")\n",
    "\n",
    "def run_query(query):\n",
    "    try:\n",
    "        # with st.spinner(\"Running query...\"):\n",
    "        connection = engine.connect()\n",
    "        print(\"Connection successful\")\n",
    "        connection.execute(text(\"USE SNOWFLAKE_SAMPLE_DATA.TPCDS_SF10TCL;\")) # Do we need this? DB is passed as connection parameter\n",
    "        # Make parameterized query such that no DELETE / UPDATE queries can be run\n",
    "        query = text(query)\n",
    "        result = connection.execute(query).fetchall()\n",
    "        try:\n",
    "            result = pd.DataFrame(result)\n",
    "        except Exception as e:\n",
    "            print(e)            \n",
    "        finally:\n",
    "            return result\n",
    "    except Exception as e:\n",
    "        return str(e)\n",
    "    finally:\n",
    "        connection.close()"
   ]
  },
  {
   "cell_type": "code",
   "execution_count": 9,
   "metadata": {},
   "outputs": [],
   "source": [
    "def load_template(template_path):\n",
    "    with open(template_path, 'r') as file:\n",
    "        template = file.read()\n",
    "    return template\n",
    "\n",
    "# Function to generate and run the query with provided parameters\n",
    "def generate_and_run_query1(year, agg_field, state, limit):\n",
    "    # Load the query template\n",
    "    query_template = load_template('query_templates/query1.tpl')\n",
    "    \n",
    "    # Prepare the query by replacing placeholders\n",
    "    query = query_template.format(agg_field=agg_field, year=year, state=state, limit=limit)\n",
    "\n",
    "    # Run the query\n",
    "    results = run_query(query)\n",
    "    return results\n",
    "\n",
    "def generate_and_run_query2(year, agg_field, state, limit):\n",
    "    # Load the query template\n",
    "    query_template = load_template('query_templates/query1.tpl')\n",
    "    \n",
    "    # Prepare the query by replacing placeholders\n",
    "    query = query_template.format(agg_field=agg_field, year=year, state=state, limit=limit)\n",
    "\n",
    "    # Run the query\n",
    "    results = run_query(query)\n",
    "    return results"
   ]
  },
  {
   "cell_type": "code",
   "execution_count": 10,
   "metadata": {},
   "outputs": [
    {
     "name": "stdout",
     "output_type": "stream",
     "text": [
      "Connection successful\n",
      "       c_customer_id\n",
      "0   AAAAAAAAAABOEHDA\n",
      "1   AAAAAAAAAJHHLKDA\n",
      "2   AAAAAAAAANEKOFDA\n",
      "3   AAAAAAAABKGDOLBA\n",
      "4   AAAAAAAACHALFGDA\n",
      "5   AAAAAAAACHBIGDCA\n",
      "6   AAAAAAAACLNIFPCA\n",
      "7   AAAAAAAADHPGBKDA\n",
      "8   AAAAAAAADPODIPBA\n",
      "9   AAAAAAAADPOPFIBA\n",
      "10  AAAAAAAAFBOMDABA\n",
      "11  AAAAAAAAFCJIHEDA\n",
      "12  AAAAAAAAFJGMLJAA\n",
      "13  AAAAAAAAFPKJBJCA\n",
      "14  AAAAAAAAGCMAONAA\n",
      "15  AAAAAAAAGEFHFNBA\n",
      "16  AAAAAAAAGNBDINCA\n",
      "17  AAAAAAAAHDGNCECA\n",
      "18  AAAAAAAAHKLHCLDA\n",
      "19  AAAAAAAAIFBNJEDA\n",
      "20  AAAAAAAAIIPCHIBA\n",
      "21  AAAAAAAAIJAOMACA\n",
      "22  AAAAAAAAIMOIAKDA\n",
      "23  AAAAAAAAJMFGCEBA\n",
      "24  AAAAAAAAKFGPOKAA\n",
      "25  AAAAAAAAKKILNCDA\n",
      "26  AAAAAAAALDPLKFBA\n",
      "27  AAAAAAAALMINLCBA\n",
      "28  AAAAAAAALPIMEDBA\n",
      "29  AAAAAAAANDMOLPAA\n",
      "30  AAAAAAAANKFMCECA\n",
      "31  AAAAAAAANOOIDGCA\n",
      "32  AAAAAAAAOAEPLBBA\n",
      "33  AAAAAAAAOLBEMGCA\n",
      "34  AAAAAAAAOMKFLBDA\n",
      "35  AAAAAAAAOPGIKLDA\n",
      "36  AAAAAAAAPABFLKDA\n",
      "37  AAAAAAAAPDFKKDAA\n",
      "38  AAAAAAAAPIIPKGBA\n",
      "39  AAAAAAAAPLFDEBDA\n",
      "40  AAAAAAAAPPNKNOCA\n"
     ]
    }
   ],
   "source": [
    "# Example usage with sample parameters\n",
    "agg_field = \"SR_RETURN_AMT\"  # Example aggregation field\n",
    "year = 2001  # Example year\n",
    "state = \"CA\"  # Example state\n",
    "limit = 100  # Example limit\n",
    "\n",
    "results = generate_and_run_query1(agg_field, year, state, limit)\n",
    "if isinstance(results, pd.DataFrame):\n",
    "    print(results)\n",
    "else:\n",
    "    print(\"Error:\", results)"
   ]
  },
  {
   "cell_type": "code",
   "execution_count": null,
   "metadata": {},
   "outputs": [],
   "source": []
  }
 ],
 "metadata": {
  "kernelspec": {
   "display_name": "venv",
   "language": "python",
   "name": "python3"
  },
  "language_info": {
   "codemirror_mode": {
    "name": "ipython",
    "version": 3
   },
   "file_extension": ".py",
   "mimetype": "text/x-python",
   "name": "python",
   "nbconvert_exporter": "python",
   "pygments_lexer": "ipython3",
   "version": "3.10.12"
  }
 },
 "nbformat": 4,
 "nbformat_minor": 2
}
